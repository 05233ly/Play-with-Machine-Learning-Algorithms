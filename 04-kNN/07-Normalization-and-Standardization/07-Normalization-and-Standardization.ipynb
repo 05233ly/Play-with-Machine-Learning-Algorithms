{
 "cells": [
  {
   "cell_type": "markdown",
   "metadata": {},
   "source": [
    "## 数据归一化处理"
   ]
  },
  {
   "cell_type": "markdown",
   "metadata": {},
   "source": [
    "### 最值归一化"
   ]
  },
  {
   "cell_type": "code",
   "execution_count": 107,
   "metadata": {
    "collapsed": true
   },
   "outputs": [],
   "source": [
    "import numpy as np\n",
    "import matplotlib.pyplot as plt\n",
    "\n",
    "x = np.random.randint(0, 100, 100) "
   ]
  },
  {
   "cell_type": "code",
   "execution_count": 108,
   "metadata": {},
   "outputs": [
    {
     "data": {
      "text/plain": [
       "array([73, 93, 82,  7, 86, 49, 36, 60, 89, 94, 27, 72, 85, 12, 82, 76, 95,\n",
       "        7, 47, 14, 75, 96, 61, 83, 49, 72, 71, 62, 35, 87, 65, 19, 23, 49,\n",
       "        7, 25, 92, 77, 41, 78, 77, 56,  0, 29, 69, 95, 13, 89, 79, 46, 29,\n",
       "       85, 64, 59, 41, 16, 14,  4, 28, 87, 13, 78, 92, 10, 60, 39, 52, 34,\n",
       "       46, 34, 23, 12, 95, 34, 79, 75, 80, 23, 28, 71, 35, 75, 33, 49, 42,\n",
       "       57,  9, 86,  7, 64, 50,  1, 63, 66, 76, 65, 56, 68, 87, 51])"
      ]
     },
     "execution_count": 108,
     "metadata": {},
     "output_type": "execute_result"
    }
   ],
   "source": [
    "x"
   ]
  },
  {
   "cell_type": "code",
   "execution_count": 109,
   "metadata": {},
   "outputs": [
    {
     "data": {
      "text/plain": [
       "array([ 0.76041667,  0.96875   ,  0.85416667,  0.07291667,  0.89583333,\n",
       "        0.51041667,  0.375     ,  0.625     ,  0.92708333,  0.97916667,\n",
       "        0.28125   ,  0.75      ,  0.88541667,  0.125     ,  0.85416667,\n",
       "        0.79166667,  0.98958333,  0.07291667,  0.48958333,  0.14583333,\n",
       "        0.78125   ,  1.        ,  0.63541667,  0.86458333,  0.51041667,\n",
       "        0.75      ,  0.73958333,  0.64583333,  0.36458333,  0.90625   ,\n",
       "        0.67708333,  0.19791667,  0.23958333,  0.51041667,  0.07291667,\n",
       "        0.26041667,  0.95833333,  0.80208333,  0.42708333,  0.8125    ,\n",
       "        0.80208333,  0.58333333,  0.        ,  0.30208333,  0.71875   ,\n",
       "        0.98958333,  0.13541667,  0.92708333,  0.82291667,  0.47916667,\n",
       "        0.30208333,  0.88541667,  0.66666667,  0.61458333,  0.42708333,\n",
       "        0.16666667,  0.14583333,  0.04166667,  0.29166667,  0.90625   ,\n",
       "        0.13541667,  0.8125    ,  0.95833333,  0.10416667,  0.625     ,\n",
       "        0.40625   ,  0.54166667,  0.35416667,  0.47916667,  0.35416667,\n",
       "        0.23958333,  0.125     ,  0.98958333,  0.35416667,  0.82291667,\n",
       "        0.78125   ,  0.83333333,  0.23958333,  0.29166667,  0.73958333,\n",
       "        0.36458333,  0.78125   ,  0.34375   ,  0.51041667,  0.4375    ,\n",
       "        0.59375   ,  0.09375   ,  0.89583333,  0.07291667,  0.66666667,\n",
       "        0.52083333,  0.01041667,  0.65625   ,  0.6875    ,  0.79166667,\n",
       "        0.67708333,  0.58333333,  0.70833333,  0.90625   ,  0.53125   ])"
      ]
     },
     "execution_count": 109,
     "metadata": {},
     "output_type": "execute_result"
    }
   ],
   "source": [
    "(x - np.min(x)) / (np.max(x) - np.min(x))"
   ]
  },
  {
   "cell_type": "code",
   "execution_count": 110,
   "metadata": {},
   "outputs": [],
   "source": [
    "X = np.random.randint(0, 100, (50, 2))"
   ]
  },
  {
   "cell_type": "code",
   "execution_count": 111,
   "metadata": {
    "collapsed": true
   },
   "outputs": [],
   "source": [
    "X = np.array(X, dtype=float)"
   ]
  },
  {
   "cell_type": "code",
   "execution_count": 112,
   "metadata": {},
   "outputs": [
    {
     "data": {
      "text/plain": [
       "array([[ 80.,  27.],\n",
       "       [ 62.,  52.],\n",
       "       [ 72.,   6.],\n",
       "       [  2.,  42.],\n",
       "       [ 53.,  41.],\n",
       "       [ 83.,  97.],\n",
       "       [ 57.,  30.],\n",
       "       [ 73.,  91.],\n",
       "       [ 33.,   0.],\n",
       "       [ 42.,  56.]])"
      ]
     },
     "execution_count": 112,
     "metadata": {},
     "output_type": "execute_result"
    }
   ],
   "source": [
    "X[:10,:]"
   ]
  },
  {
   "cell_type": "code",
   "execution_count": 113,
   "metadata": {
    "collapsed": true
   },
   "outputs": [],
   "source": [
    "X[:,0] = (X[:,0] - np.min(X[:,0])) / (np.max(X[:,0]) - np.min(X[:,0]))\n",
    "X[:,1] = (X[:,1] - np.min(X[:,1])) / (np.max(X[:,1]) - np.min(X[:,1]))"
   ]
  },
  {
   "cell_type": "code",
   "execution_count": 114,
   "metadata": {},
   "outputs": [
    {
     "data": {
      "text/plain": [
       "array([[ 0.81443299,  0.27835052],\n",
       "       [ 0.62886598,  0.53608247],\n",
       "       [ 0.73195876,  0.06185567],\n",
       "       [ 0.01030928,  0.43298969],\n",
       "       [ 0.53608247,  0.42268041],\n",
       "       [ 0.84536082,  1.        ],\n",
       "       [ 0.57731959,  0.30927835],\n",
       "       [ 0.74226804,  0.93814433],\n",
       "       [ 0.32989691,  0.        ],\n",
       "       [ 0.42268041,  0.57731959]])"
      ]
     },
     "execution_count": 114,
     "metadata": {},
     "output_type": "execute_result"
    }
   ],
   "source": [
    "X[:10,:]"
   ]
  },
  {
   "cell_type": "code",
   "execution_count": 115,
   "metadata": {},
   "outputs": [
    {
     "data": {
      "image/png": "[encoded data removed]",
      "text/plain": [
       "<matplotlib.figure.Figure at 0x10a558e80>"
      ]
     },
     "metadata": {},
     "output_type": "display_data"
    }
   ],
   "source": [
    "plt.scatter(X[:,0], X[:,1])\n",
    "plt.show()"
   ]
  },
  {
   "cell_type": "code",
   "execution_count": 116,
   "metadata": {},
   "outputs": [
    {
     "data": {
      "text/plain": [
       "0.54989690721649476"
      ]
     },
     "execution_count": 116,
     "metadata": {},
     "output_type": "execute_result"
    }
   ],
   "source": [
    "np.mean(X[:,0])"
   ]
  },
  {
   "cell_type": "code",
   "execution_count": 117,
   "metadata": {},
   "outputs": [
    {
     "data": {
      "text/plain": [
       "0.28999404452565314"
      ]
     },
     "execution_count": 117,
     "metadata": {},
     "output_type": "execute_result"
    }
   ],
   "source": [
    "np.std(X[:,0])"
   ]
  },
  {
   "cell_type": "code",
   "execution_count": 118,
   "metadata": {},
   "outputs": [
    {
     "data": {
      "text/plain": [
       "0.53134020618556699"
      ]
     },
     "execution_count": 118,
     "metadata": {},
     "output_type": "execute_result"
    }
   ],
   "source": [
    "np.mean(X[:,1])"
   ]
  },
  {
   "cell_type": "code",
   "execution_count": 119,
   "metadata": {},
   "outputs": [
    {
     "data": {
      "text/plain": [
       "0.28337736576402284"
      ]
     },
     "execution_count": 119,
     "metadata": {},
     "output_type": "execute_result"
    }
   ],
   "source": [
    "np.std(X[:,1])"
   ]
  },
  {
   "cell_type": "markdown",
   "metadata": {},
   "source": [
    "### 均值方差归一化"
   ]
  },
  {
   "cell_type": "code",
   "execution_count": 120,
   "metadata": {
    "collapsed": true
   },
   "outputs": [],
   "source": [
    "X2 = np.random.randint(0, 100, (50, 2))"
   ]
  },
  {
   "cell_type": "code",
   "execution_count": 121,
   "metadata": {
    "collapsed": true
   },
   "outputs": [],
   "source": [
    "X2 = np.array(X2, dtype=float)"
   ]
  },
  {
   "cell_type": "code",
   "execution_count": 122,
   "metadata": {},
   "outputs": [
    {
     "data": {
      "text/plain": [
       "array([[ 83.,  59.],\n",
       "       [ 83.,  86.],\n",
       "       [ 56.,  82.],\n",
       "       [ 20.,  73.],\n",
       "       [ 41.,  15.],\n",
       "       [ 44.,  17.],\n",
       "       [ 39.,  40.],\n",
       "       [ 68.,  73.],\n",
       "       [ 49.,  25.],\n",
       "       [ 56.,  54.]])"
      ]
     },
     "execution_count": 122,
     "metadata": {},
     "output_type": "execute_result"
    }
   ],
   "source": [
    "X2[:10,:]"
   ]
  },
  {
   "cell_type": "code",
   "execution_count": 123,
   "metadata": {
    "collapsed": true
   },
   "outputs": [],
   "source": [
    "X2[:,0] = (X2[:,0] - np.mean(X2[:,0])) / np.std(X2[:,0])\n",
    "X2[:,1] = (X2[:,1] - np.mean(X2[:,1])) / np.std(X2[:,1])"
   ]
  },
  {
   "cell_type": "code",
   "execution_count": 124,
   "metadata": {},
   "outputs": [
    {
     "data": {
      "image/png": "[encoded data removed]",
      "text/plain": [
       "<matplotlib.figure.Figure at 0x109e61ac8>"
      ]
     },
     "metadata": {},
     "output_type": "display_data"
    }
   ],
   "source": [
    "plt.scatter(X2[:,0], X2[:,1])\n",
    "plt.show()"
   ]
  },
  {
   "cell_type": "code",
   "execution_count": 126,
   "metadata": {},
   "outputs": [
    {
     "data": {
      "text/plain": [
       "-1.7763568394002505e-17"
      ]
     },
     "execution_count": 126,
     "metadata": {},
     "output_type": "execute_result"
    }
   ],
   "source": [
    "np.mean(X2[:,0])"
   ]
  },
  {
   "cell_type": "code",
   "execution_count": 127,
   "metadata": {},
   "outputs": [
    {
     "data": {
      "text/plain": [
       "0.99999999999999989"
      ]
     },
     "execution_count": 127,
     "metadata": {},
     "output_type": "execute_result"
    }
   ],
   "source": [
    "np.std(X2[:,0])"
   ]
  },
  {
   "cell_type": "code",
   "execution_count": 128,
   "metadata": {},
   "outputs": [
    {
     "data": {
      "text/plain": [
       "-7.549516567451065e-17"
      ]
     },
     "execution_count": 128,
     "metadata": {},
     "output_type": "execute_result"
    }
   ],
   "source": [
    "np.mean(X2[:,1])"
   ]
  },
  {
   "cell_type": "code",
   "execution_count": 129,
   "metadata": {},
   "outputs": [
    {
     "data": {
      "text/plain": [
       "0.99999999999999989"
      ]
     },
     "execution_count": 129,
     "metadata": {},
     "output_type": "execute_result"
    }
   ],
   "source": [
    "np.std(X2[:,1])"
   ]
  }
 ],
 "metadata": {
  "kernelspec": {
   "display_name": "Python 3",
   "language": "python",
   "name": "python3"
  },
  "language_info": {
   "codemirror_mode": {
    "name": "ipython",
    "version": 3
   },
   "file_extension": ".py",
   "mimetype": "text/x-python",
   "name": "python",
   "nbconvert_exporter": "python",
   "pygments_lexer": "ipython3",
   "version": "3.6.1"
  }
 },
 "nbformat": 4,
 "nbformat_minor": 2
}
